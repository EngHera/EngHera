{
  "nbformat": 4,
  "nbformat_minor": 0,
  "metadata": {
    "colab": {
      "provenance": [],
      "include_colab_link": true
    },
    "kernelspec": {
      "name": "python3",
      "display_name": "Python 3"
    },
    "language_info": {
      "name": "python"
    }
  },
  "cells": [
    {
      "cell_type": "markdown",
      "metadata": {
        "id": "view-in-github",
        "colab_type": "text"
      },
      "source": [
        "<a href=\"https://colab.research.google.com/github/EngHera/EngHera/blob/main/ME421_ControlSystems_Lab.ipynb\" target=\"_parent\"><img src=\"https://colab.research.google.com/assets/colab-badge.svg\" alt=\"Open In Colab\"/></a>"
      ]
    },
    {
      "cell_type": "markdown",
      "source": [
        "#Instructions"
      ],
      "metadata": {
        "id": "tjwc7ZikCWjn"
      }
    },
    {
      "cell_type": "markdown",
      "source": [
        "* This is a group assignment. Complete the activities in groups that were assigned for ME421 for the vibrations lab.\n",
        "\n",
        "* Make a copy of this and save it in your group github group repository.\n",
        "\n",
        "* Do all your work, EXCLUSIVELY, in that saved notebook. Your github commits will serve as a refelection of your individual contributions. It will constitute 25% of your final grade for the lab.\n",
        "\n",
        "* Complete Tasks#1 and Task#2 by 5:00PM on 18/01/2024\n",
        "\n",
        "* Complete Tasks#3 and the Task#4 by 5:00PM on 25/01/2024 and demonstrate the work in the class on 01/02/2024.\n",
        "\n",
        "* Complete Task#5 by 5:00PM on 08/02/2024 and submit the link to your working repository by midnight 08/02/2024."
      ],
      "metadata": {
        "id": "pOeY40kCCZIY"
      }
    },
    {
      "cell_type": "markdown",
      "source": [
        "#References"
      ],
      "metadata": {
        "id": "xQxmvsoX2wtl"
      }
    },
    {
      "cell_type": "markdown",
      "source": [
        "* https://colab.research.google.com/github/mugalan/classical-mechanics-from-a-geometric-point-of-view/blob/main/rigid-body-control/Mugas_Rigid_Body_Control.ipynb\n",
        "\n",
        "* https://github.com/mugalan/classical-mechanics-from-a-geometric-point-of-view/blob/main/rigid-body-control/MaithriPalaDHS_RigidBodyPIDControl_IITB_18_03_2023.pdf"
      ],
      "metadata": {
        "id": "N2PYkHmG2y9o"
      }
    },
    {
      "cell_type": "markdown",
      "source": [
        "#Task#1"
      ],
      "metadata": {
        "id": "JhWYC6Kv2l4k"
      }
    },
    {
      "cell_type": "markdown",
      "metadata": {
        "id": "GjPELOm2sJQg"
      },
      "source": [
        "Conside a rigid body moving in space. Let $\\mathbf{b}$ be a body fixed frame with the origin coinciding with that of the center of mass of the body, $M$ be the tatal mass of the body, $\\mathbb{I}$ be the inertia tensor of the body with respect to the body frame $\\mathbf{b}$, $f^e$ be the resultant total external interactions acting on the particles of the body, and $\\tau^e$ be the total resultant of the moments of the external interactions about the center of mass of the body.\n",
        "\n",
        "Show that a general rigid body is descibed by the following simple equations in an inertial frame $\\mathbf{e}$ where the moments are taken about the center of mass of the rigid body."
      ]
    },
    {
      "cell_type": "markdown",
      "metadata": {
        "id": "2FFWl8Whs8HJ"
      },
      "source": [
        "\\begin{align}\n",
        "\\dot{o}&=\\frac{1}{M}p\\\\\n",
        "\\dot{R}&=\\widehat{\\omega}R,\\\\\n",
        "\\dot{p}&=f^e+f^u,\\\\\n",
        "\\dot{\\pi}&=\\tau^e+\\tau^u,\n",
        "\\end{align}\n",
        "where\n",
        "\\begin{align}\n",
        "\\omega &=(\\mathbb{I}_c^R)^{-1}\\pi,\n",
        "\\end{align}\n",
        "Here we have split the force and control moments into unmanipulatable and manipulatable (control) part. The manipulatable (control) part will be denoted by a superscript $u$."
      ]
    },
    {
      "cell_type": "markdown",
      "source": [
        "# Derivation of Rigid Body Equations of Motion\n",
        "\n",
        "We derive the equations of motion for a rigid body moving in space, where moments are taken about the center of mass. We assume that the rigid body has a total mass $M$ and an inertia tensor $\\mathbb{I}$ in a body-fixed frame $\\mathbf{b}$. The forces and moments acting on the body are split into manipulatable (control) and non-manipulatable components.\n",
        "\n",
        "## Translational Motion\n",
        "Let $o$ be the position of the center of mass in an inertial frame $\\mathbf{e}$. The total linear momentum $p$ of the rigid body is given by:\n",
        "\n",
        "\\begin{equation}\n",
        "    p = M v,\n",
        "\\end{equation}\n",
        "\n",
        "where $v = \\dot{o}$ is the velocity of the center of mass. From Newton’s second law, the rate of change of linear momentum is equal to the total external force:\n",
        "\n",
        "\\begin{equation}\n",
        "    \\dot{p} = f^e + f^u,\n",
        "\\end{equation}\n",
        "\n",
        "where $f^e$ represents the resultant external force and $f^u$ represents the controllable force. Since $p = M \\dot{o}$, we obtain:\n",
        "\n",
        "\\begin{equation}\n",
        "    M \\dot{o} = p \\quad \\Rightarrow \\quad \\dot{o} = \\frac{1}{M} p.\n",
        "\\end{equation}\n",
        "\n",
        "This equation states that the velocity of the center of mass oo is determined by the linear momentum pp divided by the total mass M. Since p=Mv , it simplifies to v=dot(o) , which confirms that the center of mass moves according to its velocity.\n",
        "\n",
        "## Rotational Kinematics\n",
        "The orientation of the rigid body relative to the inertial frame is described by the rotation matrix $R$. The time evolution of $R$ is governed by:\n",
        "\n",
        "\\begin{equation}\n",
        "    \\dot{R} = \\widehat{\\omega} R,\n",
        "\\end{equation}\n",
        "\n",
        "where $\\widehat{\\omega}$ is the skew-symmetric matrix representation of the angular velocity $\\omega$ in the body frame, defined such that for any vector $x$:\n",
        "\n",
        "\\begin{equation}\n",
        "    \\widehat{\\omega} x = \\omega \\times x.\n",
        "\\end{equation}\n",
        "\n",
        "\n",
        "The rotation matrix RR represents the orientation of the body in the inertial frame. This equation shows how the orientation changes over time due to angular velocity ω. The skew-symmetric matrix ω^ represents the cross-product operation in matrix form, ensuring proper rotational motion.\n",
        "\n",
        "## Newton’s Second Law for Linear Momentum:\n",
        "\\begin{align}\n",
        "    \\dot{p} &= f^e + f^u, \\\\\n",
        "\\end{align}\n",
        "\n",
        "This is Newton's second law applied to the rigid body's center of mass. The rate of change of linear momentum pp is equal to the sum of external forces fefe and control forces fufu. These forces determine how the object's velocity changes over time.\n",
        "\n",
        "\n",
        "\n",
        "## Angular Momentum and Euler’s Equations\n",
        "The total angular momentum about the center of mass in the body-fixed frame is:\n",
        "\n",
        "\\begin{equation}\n",
        "    \\pi = \\mathbb{I} \\omega,\n",
        "\\end{equation}\n",
        "\n",
        "where $\\mathbb{I}$ is the inertia tensor of the rigid body. Euler’s equations of motion state that the time derivative of angular momentum is given by:\n",
        "\n",
        "\\begin{equation}\n",
        "    \\dot{\\pi} = \\tau^e + \\tau^u,\n",
        "\\end{equation}\n",
        "\n",
        "where $\\tau^e$ is the resultant external moment about the center of mass, and $\\tau^u$ is the controllable moment.\n",
        "\n",
        "This equation governs the rotational motion of the rigid body. The angular momentum π changes over time due to external torques $\\tau^e$  and applied (control) torques $\\tau^u$ . It is the rotational equivalent of Newton's second law.\n",
        "\n",
        "## Angular Velocity Relation\n",
        "From the angular momentum equation, we solve for the angular velocity:\n",
        "\n",
        "\\begin{equation}\n",
        "    \\omega = (\\mathbb{I}_c^R)^{-1} \\pi.\n",
        "\\end{equation}\n",
        "\n",
        "This equation relates the angular momentum ππ to the angular velocity ω through the inverse of the inertia tensor IcR​. Since the moment of inertia depends on the body's mass distribution, this equation determines how the angular velocity evolves given the angular momentum.\n",
        "\n",
        "## Final Equations of Motion\n",
        "The complete equations of motion for a general rigid body in an inertial frame are:\n",
        "\n",
        "\\begin{align}\n",
        "    \\dot{o} &= \\frac{1}{M} p, \\\\\n",
        "    \\dot{R} &= \\widehat{\\omega} R, \\\\\n",
        "    \\dot{p} &= f^e + f^u, \\\\\n",
        "    \\dot{\\pi} &= \\tau^e + \\tau^u, \\\\\n",
        "    \\omega &= (\\mathbb{I}_c^R)^{-1} \\pi.\n",
        "\\end{align}\n",
        "\n",
        "These equations describe the translational and rotational motion of a rigid body, with forces and moments taken about the center of mass.\n",
        "\n",
        "\n"
      ],
      "metadata": {
        "id": "i2UjBfrBqHIr"
      }
    },
    {
      "cell_type": "markdown",
      "source": [
        "#Task#2"
      ],
      "metadata": {
        "id": "PT5T8y9-3h1H"
      }
    },
    {
      "cell_type": "markdown",
      "source": [
        "Simulate the motion of a quadrotor UAV without resorting any parameterization of $SO(3)$ such as Euler angles or quaternions."
      ],
      "metadata": {
        "id": "iETMxXB04IZj"
      }
    },
    {
      "cell_type": "markdown",
      "source": [
        "#Task#3"
      ],
      "metadata": {
        "id": "iYtoUarB4L6Q"
      }
    },
    {
      "cell_type": "markdown",
      "source": [
        "Deerive a PID controller for the attitude control of a quadrorotor and use simulations to demibstrate the very large region of stability of the controller"
      ],
      "metadata": {
        "id": "AxOY5o-34TCz"
      }
    },
    {
      "cell_type": "markdown",
      "source": [
        "Here are few example our own implementations of this controller.\n",
        "\n",
        "* https://youtu.be/6E9WDQNVSYA\n",
        "* https://youtu.be/uUKxXImRMOA\n",
        "* https://youtu.be/zq05N8m_9SA\n",
        "* https://youtu.be/J5dThZGZN2g\n",
        "* https://youtu.be/J5MMp6Be3tU\n",
        "* https://youtu.be/6ZQgE1FI6Wc"
      ],
      "metadata": {
        "id": "cInu25giFEXw"
      }
    },
    {
      "cell_type": "markdown",
      "source": [
        "#Task#4"
      ],
      "metadata": {
        "id": "o6XRW2MR4nVw"
      }
    },
    {
      "cell_type": "markdown",
      "source": [
        "Derive a specialization of the controller develoed in Task#3 for the problem of stabilzing the twin rotor setup in the lab."
      ],
      "metadata": {
        "id": "u9vdw-yM4rem"
      }
    },
    {
      "cell_type": "markdown",
      "source": [
        "#Task#5"
      ],
      "metadata": {
        "id": "jkEiEv8sEPhG"
      }
    },
    {
      "cell_type": "markdown",
      "source": [
        " Experimentally verify the stability properties of the controller derived in Task#5 using the experimental setup available in the applied mechanics lab."
      ],
      "metadata": {
        "id": "w2WRdKSTEQ7i"
      }
    }
  ]
}